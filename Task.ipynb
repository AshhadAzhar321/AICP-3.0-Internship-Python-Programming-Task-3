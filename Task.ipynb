{
 "cells": [
  {
   "cell_type": "markdown",
   "id": "57a32722",
   "metadata": {},
   "source": [
    "### Task 1"
   ]
  },
  {
   "cell_type": "code",
   "execution_count": 2,
   "id": "94c0433c",
   "metadata": {},
   "outputs": [
    {
     "name": "stdout",
     "output_type": "stream",
     "text": [
      "Please enter weight of student in kgs: 76\n",
      "Please enter name of student: Ash\n",
      "Press 1 to add more entires to data or 0 to exit: 1\n",
      "Please enter weight of student in kgs: 75\n",
      "Please enter name of student: Me\n",
      "Press 1 to add more entires to data or 0 to exit: 1\n",
      "Please enter weight of student in kgs: 75\n",
      "Please enter name of student: You\n",
      "Press 1 to add more entires to data or 0 to exit: 0\n",
      "Ash has weight 76.\n",
      "Me has weight 75.\n",
      "You has weight 75.\n"
     ]
    }
   ],
   "source": [
    "weights = []\n",
    "names = []\n",
    "\n",
    "while True:\n",
    "    weight = int(input(\"Please enter weight of student in kgs: \"))\n",
    "    \n",
    "    if(weight<50 or weight>120): #Condition for acceptable weight\n",
    "        print(\"Invalid weight.\")\n",
    "        continue\n",
    "        \n",
    "    weights.append(weight)\n",
    "    \n",
    "    name = input(\"Please enter name of student: \")\n",
    "    \n",
    "    names.append(name)\n",
    "    \n",
    "    flag = int(input(\"Press 1 to add more entires to data or 0 to exit: \"))\n",
    "    \n",
    "    if(flag == 0): #To end loop\n",
    "        break\n",
    "        \n",
    "for i,j in zip(names, weights):\n",
    "    print(i+\" has weight \"+str(j)+\".\")"
   ]
  },
  {
   "cell_type": "markdown",
   "id": "4902336d",
   "metadata": {},
   "source": [
    "### Task 2"
   ]
  },
  {
   "cell_type": "code",
   "execution_count": 16,
   "id": "775b0839",
   "metadata": {},
   "outputs": [
    {
     "name": "stdout",
     "output_type": "stream",
     "text": [
      "Please enter weight of Ash in kgs at end of term: 77\n",
      "Please enter weight of Me in kgs at end of term: 80\n",
      "Please enter weight of You in kgs at end of term: 90\n"
     ]
    }
   ],
   "source": [
    "weights_end = []\n",
    "\n",
    "for i in names:\n",
    "    flag = False\n",
    "    while flag == False: #While loop to ensure proper weight is input\n",
    "        weight = int(input(\"Please enter weight of \"+i+\" in kgs at end of term: \"))\n",
    "        if(weight<50 or weight>120): #Checking validity of weight\n",
    "            print(\"Invalid weight.\")\n",
    "        else:\n",
    "            flag = True\n",
    "            \n",
    "    weights_end.append(weight)\n",
    "    \n",
    "weight_diff = []\n",
    "    \n",
    "for j,k in zip(weights, weights_end): # Weight difference is calculated\n",
    "    weight_diff.append(k-j)"
   ]
  },
  {
   "cell_type": "markdown",
   "id": "94ff3764",
   "metadata": {},
   "source": [
    "### Task 3"
   ]
  },
  {
   "cell_type": "code",
   "execution_count": 18,
   "id": "5f608421",
   "metadata": {},
   "outputs": [
    {
     "name": "stdout",
     "output_type": "stream",
     "text": [
      "Me has gained 5kg.\n",
      "You has gained 15kg.\n"
     ]
    }
   ],
   "source": [
    "for i,j,k in zip(names, weights, weights_end):\n",
    "    if(j-k>2.5 or j-k<-2.5): #Only display if weight difference is greater than 2.5 or less than -2.5\n",
    "        if(j-k > 0): #Checking if weight is lost or gained\n",
    "            print(i+\" has lost \"+str(j-k)+\"kg.\")\n",
    "        elif (j-k < 0):\n",
    "            print(i+\" has gained \"+str(k-j)+\"kg.\")\n",
    "        else:\n",
    "            print(i+\" has neither gained nor lost weight.\")"
   ]
  },
  {
   "cell_type": "code",
   "execution_count": null,
   "id": "9caf4bab",
   "metadata": {},
   "outputs": [],
   "source": []
  }
 ],
 "metadata": {
  "kernelspec": {
   "display_name": "Python 3 (ipykernel)",
   "language": "python",
   "name": "python3"
  },
  "language_info": {
   "codemirror_mode": {
    "name": "ipython",
    "version": 3
   },
   "file_extension": ".py",
   "mimetype": "text/x-python",
   "name": "python",
   "nbconvert_exporter": "python",
   "pygments_lexer": "ipython3",
   "version": "3.11.4"
  }
 },
 "nbformat": 4,
 "nbformat_minor": 5
}
